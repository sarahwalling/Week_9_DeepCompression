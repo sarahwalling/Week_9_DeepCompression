{
 "cells": [
  {
   "cell_type": "markdown",
   "metadata": {},
   "source": [
    "# Exercise Week 9: Pruning and Quantization\n",
    "This week, we will explore some of the ideas discussed in Han, Mao, and Dally's Deep Compression.  In particular, we will implement weight pruning with fine tuning, as well as k-means weight quantization.  **Note that we will unfortunately not be doing this in a way that will actually lead to substantial efficiency gains: that would involve the use of sparse matrices which are not currently well-supported in pytorch.** \n",
    "\n",
    "## Training an MNIST classifier\n",
    "For this example, we'll work with a basic multilayer perceptron with a single hidden layer.  We will train it on the MNIST dataset so that it can classify handwritten digits.  As usual we load the data:"
   ]
  },
  {
   "cell_type": "code",
   "execution_count": 15,
   "metadata": {},
   "outputs": [],
   "source": [
    "import torch\n",
    "import torchvision.transforms as transforms\n",
    "import torchvision.datasets as datasets\n",
    "from sklearn.cluster import KMeans\n",
    "import numpy as np\n",
    "\n",
    "device = torch.device('cuda' if torch.cuda.is_available() else \"cpu\")\n",
    "\n",
    "train_dataset = datasets.MNIST(root='./data', train=True, transform=transforms.ToTensor(), download=True)\n",
    "test_dataset = datasets.MNIST(root='./data', train=False, transform=transforms.ToTensor())\n",
    "\n",
    "batch_size = 300\n",
    "train_loader = torch.utils.data.DataLoader(dataset=train_dataset, batch_size=batch_size, shuffle=True)\n",
    "test_loader = torch.utils.data.DataLoader(dataset=test_dataset, batch_size=batch_size, shuffle=False)"
   ]
  },
  {
   "cell_type": "markdown",
   "metadata": {},
   "source": [
    "Then define a model:"
   ]
  },
  {
   "cell_type": "code",
   "execution_count": 2,
   "metadata": {},
   "outputs": [],
   "source": [
    "class MultilayerPerceptron(torch.nn.Module):\n",
    "    def __init__(self, input_dim, hidden_dim, output_dim,mask=None):\n",
    "        super(MultilayerPerceptron, self).__init__()\n",
    "        if not mask:\n",
    "            self.mask = torch.nn.Parameter(torch.ones(input_dim,hidden_dim),requires_grad=False)\n",
    "        else:\n",
    "            self.mask = torch.nn.Parameter(mask)\n",
    "\n",
    "        self.W_0 = torch.nn.Parameter(1e-3*torch.randn(input_dim,hidden_dim)*self.mask,requires_grad=True)\n",
    "        self.b_0 = torch.nn.Parameter(torch.zeros(hidden_dim),requires_grad=True)\n",
    "\n",
    "        self.W_1 = torch.nn.Parameter(1e-3*torch.randn(hidden_dim,output_dim),requires_grad=True)\n",
    "        self.b_1 = torch.nn.Parameter(torch.zeros(output_dim),requires_grad=True)\n",
    "        \n",
    "    def set_mask(self,mask):\n",
    "        \n",
    "        self.mask.data = mask.data\n",
    "        self.W_0.data = self.mask.data*self.W_0.data\n",
    "\n",
    "    def forward(self, x):\n",
    "        hidden = torch.tanh(x@(self.W_0*self.mask) + self.b_0)\n",
    "        outputs = hidden@self.W_1 + self.b_1\n",
    "        return outputs\n"
   ]
  },
  {
   "cell_type": "markdown",
   "metadata": {},
   "source": [
    "Note that the above code is a little bit different than a standard multilayer perceptron implementation.\n",
    "\n",
    "### Q1: What does this model have the capability of doing that a \"Vanilla\" MLP does not.  Why might we want this functionality for studying pruning?\n",
    "Sets up a mask for \"pruning\"\n",
    "\n",
    "Let's first train this model without utilizing this extra functionality.  You can set the hidden layer size to whatever you'd like when instantiating the model:"
   ]
  },
  {
   "cell_type": "code",
   "execution_count": 3,
   "metadata": {},
   "outputs": [],
   "source": [
    "n_epochs = 10\n",
    "\n",
    "input_dim = 784\n",
    "hidden_dim = 64\n",
    "output_dim = 10\n",
    "\n",
    "model = MultilayerPerceptron(input_dim,hidden_dim,output_dim)\n",
    "model = model.to(device)\n",
    "\n",
    "criterion = torch.nn.CrossEntropyLoss() # computes softmax and then the cross entropy\n",
    "lr_rate = 0.001\n",
    "optimizer = torch.optim.Adam(model.parameters(), lr=lr_rate, weight_decay=1e-3)"
   ]
  },
  {
   "cell_type": "markdown",
   "metadata": {},
   "source": [
    "And then training proceeds as normal."
   ]
  },
  {
   "cell_type": "code",
   "execution_count": 4,
   "metadata": {},
   "outputs": [
    {
     "name": "stdout",
     "output_type": "stream",
     "text": [
      "Iteration: 0. Loss: 0.4140359163284302. Accuracy: 90.\n",
      "Iteration: 1. Loss: 0.2821931838989258. Accuracy: 92.\n",
      "Iteration: 2. Loss: 0.27411967515945435. Accuracy: 93.\n",
      "Iteration: 3. Loss: 0.20474854111671448. Accuracy: 93.\n",
      "Iteration: 4. Loss: 0.13311657309532166. Accuracy: 94.\n",
      "Iteration: 5. Loss: 0.14961056411266327. Accuracy: 94.\n",
      "Iteration: 6. Loss: 0.16796471178531647. Accuracy: 95.\n",
      "Iteration: 7. Loss: 0.10361000150442123. Accuracy: 95.\n",
      "Iteration: 8. Loss: 0.185793936252594. Accuracy: 95.\n",
      "Iteration: 9. Loss: 0.1478072851896286. Accuracy: 96.\n"
     ]
    }
   ],
   "source": [
    "iter = 0\n",
    "for epoch in range(n_epochs):\n",
    "    for i, (images, labels) in enumerate(train_loader):\n",
    "        images = images.view(-1, 28 * 28).to(device)\n",
    "        labels = labels.to(device)\n",
    "\n",
    "        optimizer.zero_grad()\n",
    "        outputs = model(images)\n",
    "        loss = criterion(outputs, labels)\n",
    "        loss.backward()\n",
    "        optimizer.step()\n",
    "\n",
    "    # calculate Accuracy\n",
    "    correct = 0\n",
    "    total = 0\n",
    "    for images, labels in test_loader:\n",
    "        images = images.view(-1, 28*28).to(device)\n",
    "        labels = labels.to(device)\n",
    "        outputs = model(images)\n",
    "        _, predicted = torch.max(outputs.data, 1)\n",
    "        total+= labels.size(0)\n",
    "                # for gpu, bring the predicted and labels back to cpu fro python operations to work\n",
    "        correct+= (predicted == labels).sum()\n",
    "    accuracy = 100 * correct/total\n",
    "    print(\"Iteration: {}. Loss: {}. Accuracy: {}.\".format(epoch, loss.item(), accuracy))\n",
    "torch.save(model.state_dict(),'mnist_pretrained.h5')\n"
   ]
  },
  {
   "cell_type": "markdown",
   "metadata": {},
   "source": [
    "## Pruning\n",
    "\n",
    "Certainly not a state of the art model, but also not a terrible one.  Because we're hoping to do some weight pruning, let's inspect some of the weights directly (recall that we can act like they're images)"
   ]
  },
  {
   "cell_type": "code",
   "execution_count": 6,
   "metadata": {},
   "outputs": [
    {
     "data": {
      "image/png": "[encoded data removed]",
      "text/plain": [
       "<Figure size 432x288 with 1 Axes>"
      ]
     },
     "metadata": {
      "needs_background": "light"
     },
     "output_type": "display_data"
    }
   ],
   "source": [
    "import matplotlib.pyplot as plt\n",
    "W_0 = model.W_0.detach().cpu().numpy()\n",
    "plt.imshow(W_0[:,1].reshape((28,28)))\n",
    "plt.show()"
   ]
  },
  {
   "cell_type": "markdown",
   "metadata": {},
   "source": [
    "### Q2: Based on the above image, what weights might reasonably be pruned (i.e. explicitly forced to be zero)?\n",
    "Those near the edge\n",
    "\n",
    "\n",
    "### Q3: Implement some means of establishing a threshold for the (absolute value of the) weights, below which they are set to zero.  Using this method, create a mask array.     "
   ]
  },
  {
   "cell_type": "code",
   "execution_count": 7,
   "metadata": {},
   "outputs": [
    {
     "name": "stdout",
     "output_type": "stream",
     "text": [
      "Weights masked:  0.9526466836734694\n"
     ]
    }
   ],
   "source": [
    "threshold = 0.1\n",
    "new_mask = model.mask\n",
    "\n",
    "masks = 0\n",
    "for x in range(input_dim):\n",
    "  for y in range(hidden_dim):\n",
    "    if abs(model.W_0[x,y]) < threshold:\n",
    "      new_mask[x,y] = 0\n",
    "      masks += 1\n",
    "    else:\n",
    "      new_mask[x,y] = 1\n",
    "\n",
    "print(\"Weights masked: \", masks / (input_dim * hidden_dim))"
   ]
  },
  {
   "cell_type": "markdown",
   "metadata": {},
   "source": [
    "Now that we have a mask that explicitly establishes a sparsity pattern for our model, let's update our model with this mask:"
   ]
  },
  {
   "cell_type": "code",
   "execution_count": 8,
   "metadata": {},
   "outputs": [],
   "source": [
    "model.set_mask(new_mask)"
   ]
  },
  {
   "cell_type": "markdown",
   "metadata": {},
   "source": [
    "Now, we have explicitly set some entries in one of the the weight matrices to zero, and ensured via the mask, that they will not be updated by gradient descent.  Fine tune the model: "
   ]
  },
  {
   "cell_type": "code",
   "execution_count": 9,
   "metadata": {},
   "outputs": [
    {
     "name": "stdout",
     "output_type": "stream",
     "text": [
      "Iteration: 0. Loss: 0.23886622488498688. Accuracy: 93.\n",
      "Iteration: 1. Loss: 0.20554035902023315. Accuracy: 94.\n",
      "Iteration: 2. Loss: 0.2285604625940323. Accuracy: 94.\n",
      "Iteration: 3. Loss: 0.21977680921554565. Accuracy: 94.\n",
      "Iteration: 4. Loss: 0.21874597668647766. Accuracy: 95.\n",
      "Iteration: 5. Loss: 0.16723786294460297. Accuracy: 95.\n",
      "Iteration: 6. Loss: 0.1926373839378357. Accuracy: 95.\n",
      "Iteration: 7. Loss: 0.14440035820007324. Accuracy: 95.\n",
      "Iteration: 8. Loss: 0.14381380379199982. Accuracy: 95.\n",
      "Iteration: 9. Loss: 0.17586421966552734. Accuracy: 95.\n"
     ]
    }
   ],
   "source": [
    "iter = 0\n",
    "for epoch in range(n_epochs):\n",
    "    for i, (images, labels) in enumerate(train_loader):\n",
    "        images = images.view(-1, 28 * 28).to(device)\n",
    "        labels = labels.to(device)\n",
    "\n",
    "        optimizer.zero_grad()\n",
    "        outputs = model(images)\n",
    "        loss = criterion(outputs, labels)\n",
    "        loss.backward()\n",
    "        optimizer.step()\n",
    "\n",
    "    # calculate Accuracy\n",
    "    correct = 0\n",
    "    total = 0\n",
    "    for images, labels in test_loader:\n",
    "        images = images.view(-1, 28*28).to(device)\n",
    "        labels = labels.to(device)\n",
    "        outputs = model(images)\n",
    "        _, predicted = torch.max(outputs.data, 1)\n",
    "        total+= labels.size(0)\n",
    "                # for gpu, bring the predicted and labels back to cpu fro python operations to work\n",
    "        correct+= (predicted == labels).sum()\n",
    "    accuracy = 100 * correct/total\n",
    "    print(\"Iteration: {}. Loss: {}. Accuracy: {}.\".format(iter, loss.item(), accuracy))\n",
    "    iter+= 1\n",
    "torch.save(model.state_dict(),'mnist_pruned.h5')"
   ]
  },
  {
   "cell_type": "markdown",
   "metadata": {},
   "source": [
    "### Q4: How much accuracy did you lose by pruning the model?  How much \"compression\" did you achieve (here defined as total entries in W_0 divided by number of non-zero entries)?  \n",
    "I didn't lose any accuracy while masking 95% of W_0\n",
    "\n",
    "\n",
    "### Q5: Explore a few different thresholds: approximately how many weights can you prune before accuracy starts to degrade?\n",
    "Once you go over 97%, the accuracy starts rapidly degrading"
   ]
  },
  {
   "cell_type": "code",
   "execution_count": 10,
   "metadata": {},
   "outputs": [
    {
     "data": {
      "image/png": "[encoded data removed]",
      "text/plain": [
       "<Figure size 432x288 with 1 Axes>"
      ]
     },
     "metadata": {
      "needs_background": "light"
     },
     "output_type": "display_data"
    }
   ],
   "source": [
    "W_0 = model.W_0.detach().cpu().numpy()\n",
    "plt.imshow(W_0[:,1].reshape((28,28)))\n",
    "plt.show()"
   ]
  },
  {
   "cell_type": "markdown",
   "metadata": {},
   "source": [
    "## Quantization\n",
    "\n",
    "Now that we have a pruned model that appears to be performing well, let's see if we can make it even smaller by quantization.  To do this, we'll need a slightly different neural network, one that corresponds to Figure 3 from the paper.  Instead of having a matrix of float values, we'll have a matrix of integer labels (here called \"labels\") that correspond to entries in a (hopefully) small codebook of centroids (here called \"centroids\").  The way that I've coded it, there's still a mask that enforces our desired sparsity pattern."
   ]
  },
  {
   "cell_type": "code",
   "execution_count": 11,
   "metadata": {},
   "outputs": [],
   "source": [
    "class MultilayerPerceptronQuantized(torch.nn.Module):\n",
    "    def __init__(self, input_dim, output_dim, hidden_dim,mask,labels,centroids):\n",
    "        super(MultilayerPerceptronQuantized, self).__init__()\n",
    "        self.mask = torch.nn.Parameter(mask,requires_grad=False)\n",
    "        self.labels = torch.nn.Parameter(labels,requires_grad=False)\n",
    "        self.centroids = torch.nn.Parameter(centroids,requires_grad=True)\n",
    "\n",
    "        self.b_0 = torch.nn.Parameter(torch.zeros(hidden_dim))\n",
    "\n",
    "        self.W_1 = torch.nn.Parameter(1e-3*torch.randn(hidden_dim,output_dim))\n",
    "        self.b_1 = torch.nn.Parameter(torch.zeros(output_dim))\n",
    "\n",
    "    def forward(self, x):\n",
    "        W_0 = self.mask*self.centroids[self.labels]\n",
    "        hidden = torch.tanh(x@W_0 + self.b_0)\n",
    "        outputs = hidden@self.W_1 + self.b_1\n",
    "        return outputs"
   ]
  },
  {
   "cell_type": "markdown",
   "metadata": {},
   "source": [
    "Notice what is happening in the forward method: W_0 is being reconstructed by using a matrix (self.labels) to index into a vector (self.centroids).  The beauty of automatic differentiation allows backpropogation through this sort of weird indexing operation, and thus gives us gradients of the objective function with respect to the centroid values!\n",
    "\n",
    "### Q6: However, before we are able to use this AD magic, we need to specify the static label matrix (and an initial guess for centroids).  Use the k-means algorithm (or something else if you prefer) figure out the label matrix and centroid vectors.  PROTIP1: I used scikit-learns implementation of k-means.  PROTIP2: only cluster the non-zero entries"
   ]
  },
  {
   "cell_type": "code",
   "execution_count": 17,
   "metadata": {},
   "outputs": [
    {
     "name": "stdout",
     "output_type": "stream",
     "text": [
      "(784, 64)\n",
      "[1 1 0 ... 1 0 0]\n"
     ]
    }
   ],
   "source": [
    "# convert weight and mask matrices into numpy arrays\n",
    "W_0 = model.W_0.detach().cpu().numpy()\n",
    "mask = model.mask.detach().cpu().numpy()\n",
    "print(W_0.shape)\n",
    "\n",
    "# Figure out the indices of non-zero entries \n",
    "inds = np.where(mask!=0)\n",
    "# Figure out the values of non-zero entries\n",
    "#vals = W_0[inds]\n",
    "vals = np.expand_dims(W_0[inds], 1)\n",
    "\n",
    "### TODO: perform clustering on vals\n",
    "kmeans = KMeans(n_clusters=2).fit(vals)\n",
    "print(kmeans.labels_)\n",
    "\n",
    "### TODO: turn the label matrix and centroids into a torch tensor\n",
    "np_labels = np.zeros_like(W_0)\n",
    "np_labels[inds] = kmeans.labels_\n",
    "\n",
    "labels = torch.tensor(np_labels, dtype=torch.long,device=device).squeeze()\n",
    "centroids = torch.tensor(kmeans.cluster_centers_,device=device).squeeze()"
   ]
  },
  {
   "cell_type": "markdown",
   "metadata": {},
   "source": [
    "Now, we can instantiate our quantized model and import the appropriate pre-trained weights for the other network layers.  "
   ]
  },
  {
   "cell_type": "code",
   "execution_count": 18,
   "metadata": {},
   "outputs": [],
   "source": [
    "# Instantiate quantized model\n",
    "model_q = MultilayerPerceptronQuantized(input_dim,output_dim,hidden_dim,new_mask,labels,centroids)\n",
    "model_q = model_q.to(device)\n",
    "\n",
    "# Copy pre-trained weights from unquantized model for non-quantized layers\n",
    "model_q.b_0.data = model.b_0.data\n",
    "model_q.W_1.data = model.W_1.data\n",
    "model_q.b_1.data = model.b_1.data"
   ]
  },
  {
   "cell_type": "markdown",
   "metadata": {},
   "source": [
    "Finally, we can fine tune the quantized model.  We'll adjust not only the centroids, but also the weights in the other layers."
   ]
  },
  {
   "cell_type": "code",
   "execution_count": 20,
   "metadata": {},
   "outputs": [
    {
     "name": "stdout",
     "output_type": "stream",
     "text": [
      "Iteration: 0. Loss: 0.11318205296993256. Accuracy: 94.\n",
      "Iteration: 1. Loss: 0.13921551406383514. Accuracy: 94.\n",
      "Iteration: 2. Loss: 0.17861407995224. Accuracy: 94.\n",
      "Iteration: 3. Loss: 0.2503177523612976. Accuracy: 94.\n",
      "Iteration: 4. Loss: 0.1837335228919983. Accuracy: 94.\n",
      "Iteration: 5. Loss: 0.1502629518508911. Accuracy: 94.\n",
      "Iteration: 6. Loss: 0.22506943345069885. Accuracy: 94.\n",
      "Iteration: 7. Loss: 0.1459856629371643. Accuracy: 94.\n",
      "Iteration: 8. Loss: 0.15966534614562988. Accuracy: 94.\n",
      "Iteration: 9. Loss: 0.1669410765171051. Accuracy: 94.\n"
     ]
    }
   ],
   "source": [
    "optimizer = torch.optim.Adam(model_q.parameters(), lr=lr_rate, weight_decay=1e-3)\n",
    "iter = 0\n",
    "for epoch in range(n_epochs):\n",
    "    for i, (images, labels) in enumerate(train_loader):\n",
    "        images = images.view(-1, 28 * 28).to(device)\n",
    "        labels = labels.to(device)\n",
    "\n",
    "        optimizer.zero_grad()\n",
    "        outputs = model_q(images)\n",
    "        loss = criterion(outputs, labels)\n",
    "        loss.backward()\n",
    "        optimizer.step()\n",
    "\n",
    "    # calculate Accuracy\n",
    "    correct = 0\n",
    "    total = 0\n",
    "    for images, labels in test_loader:\n",
    "        images = images.view(-1, 28*28).to(device)\n",
    "        labels = labels.to(device)\n",
    "        outputs = model_q(images)\n",
    "        _, predicted = torch.max(outputs.data, 1)\n",
    "        total+= labels.size(0)\n",
    "                # for gpu, bring the predicted and labels back to cpu fro python operations to work\n",
    "        correct+= (predicted == labels).sum()\n",
    "    accuracy = 100 * correct/total\n",
    "    print(\"Iteration: {}. Loss: {}. Accuracy: {}.\".format(iter, loss.item(), accuracy))\n",
    "    iter += 1\n",
    "torch.save(model.state_dict(),'mnist_quantized.h5')"
   ]
  },
  {
   "cell_type": "markdown",
   "metadata": {},
   "source": [
    "After retraining, we can, just for fun, reconstruct the pruned and quantized weights and plot them as images:"
   ]
  },
  {
   "cell_type": "code",
   "execution_count": 21,
   "metadata": {},
   "outputs": [
    {
     "data": {
      "image/png": "[encoded data removed]",
      "text/plain": [
       "<Figure size 432x288 with 1 Axes>"
      ]
     },
     "metadata": {
      "needs_background": "light"
     },
     "output_type": "display_data"
    }
   ],
   "source": [
    "W_0 = (model_q.mask*model_q.centroids[model_q.labels]).detach().cpu().numpy()\n",
    "plt.imshow(W_0[:,1].reshape((28,28)))\n",
    "plt.show()"
   ]
  },
  {
   "cell_type": "markdown",
   "metadata": {},
   "source": [
    "Certainly a much more parsimonious representation.  The obvious question now becomes:\n",
    "\n",
    "### Q7: How low can you go?  How small can the centroid codebook be before we see a substantial degradation in test set accuracy?\n",
    "My accuracy seems to remain high (93-95%) no matter how low (or high) I go \n",
    "### Bonus question: Try establishing the sparsity pattern using a model that's only been trained for a single epoch, then fine tune the pruned model and quantize as normal.  How does this compare to pruning a model that has been fully trained?  "
   ]
  }
 ],
 "metadata": {
  "kernelspec": {
   "display_name": "Python 3",
   "language": "python",
   "name": "python3"
  },
  "language_info": {
   "codemirror_mode": {
    "name": "ipython",
    "version": 3
   },
   "file_extension": ".py",
   "mimetype": "text/x-python",
   "name": "python",
   "nbconvert_exporter": "python",
   "pygments_lexer": "ipython3",
   "version": "3.7.4"
  }
 },
 "nbformat": 4,
 "nbformat_minor": 2
}
